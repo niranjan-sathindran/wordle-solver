{
 "cells": [
  {
   "cell_type": "markdown",
   "metadata": {},
   "source": [
    "**A snippet of code to solve the daily wordle puzzle**\n",
    "\n",
    "*What this Jupyter notebook tries to do?*\n",
    "\n",
    "It narrows down the list of 5 letter english words based on your guesses. More the number of your guesses, smaller the number of possible answers. Recommend using two guesses for optimal results.\n",
    "\n",
    "*How to use it?*\n",
    "1. Update the variable called guess_list\n",
    "2. Variable `guess_list` is a two dimensional array with each row representing a single guess\n",
    "3. First column of each row is the actual word that is your guess\n",
    "4. Second column of each row represents the result of that guess. The *Result* column sues a nomenclature like this:\n",
    "    1. *n* represents None. When your guess ends up being gray, use *n* in its place.\n",
    "    2. *y* represents yellow. When your guess ends up being yellow, use *y* in its place.\n",
    "    3. *g* represents yellow. When your guess ends up being yellow, use *g* in its place.\n",
    "    4. In the example below, your row would look like this - *['mulch', 'ygnny']*\n",
    "        \n",
    "        <img src=\"IMG_8221.jpg\" alt=\"drawing\" width=\"200\"/>\n",
    "    5. Usee Cell # 1 to initialize the `guess_list` variable and run Cell # 2 to get a narrowed down set of results.\n",
    "    \n",
    "*Disclaimers and Credits*\n",
    "- The list of english words was obtained from https://www.kaggle.com/rtatman/english-word-frequency\n",
    "- The list of words this notebook uses is not precise. A lot of words that appears in the list are not legitimate english words from the oxford dictionary.\n",
    "- I naarow the list down ~ to the top 55k as below this most words are not really, well...  words.\n",
    "\n",
    "*How to contribute?*\n",
    "Add comments or create PRs"
   ]
  },
  {
   "cell_type": "code",
   "execution_count": 1,
   "metadata": {},
   "outputs": [],
   "source": [
    "guess_list = [['stain', 'nnnnn'], \n",
    "              ['pored', 'nyynn'], \n",
    "              ['mulch', 'ygnny']]"
   ]
  },
  {
   "cell_type": "code",
   "execution_count": 26,
   "metadata": {},
   "outputs": [
    {
     "data": {
      "text/html": [
       "<div>\n",
       "<style scoped>\n",
       "    .dataframe tbody tr th:only-of-type {\n",
       "        vertical-align: middle;\n",
       "    }\n",
       "\n",
       "    .dataframe tbody tr th {\n",
       "        vertical-align: top;\n",
       "    }\n",
       "\n",
       "    .dataframe thead th {\n",
       "        text-align: right;\n",
       "    }\n",
       "</style>\n",
       "<table border=\"1\" class=\"dataframe\">\n",
       "  <thead>\n",
       "    <tr style=\"text-align: right;\">\n",
       "      <th></th>\n",
       "      <th>l1</th>\n",
       "      <th>l2</th>\n",
       "      <th>l3</th>\n",
       "      <th>l4</th>\n",
       "      <th>l5</th>\n",
       "    </tr>\n",
       "  </thead>\n",
       "  <tbody>\n",
       "    <tr>\n",
       "      <th>594</th>\n",
       "      <td>h</td>\n",
       "      <td>u</td>\n",
       "      <td>m</td>\n",
       "      <td>o</td>\n",
       "      <td>r</td>\n",
       "    </tr>\n",
       "  </tbody>\n",
       "</table>\n",
       "</div>"
      ],
      "text/plain": [
       "    l1 l2 l3 l4 l5\n",
       "594  h  u  m  o  r"
      ]
     },
     "execution_count": 26,
     "metadata": {},
     "output_type": "execute_result"
    }
   ],
   "source": [
    "import pandas as pd\n",
    "import json\n",
    "import numpy as np\n",
    "# Initialize Words DataFrame\n",
    "directory = '/Users/niranjan/Documents/code/wordle-project'\n",
    "word_df = pd.read_csv(directory+'/unigram_freq.csv')\n",
    "\n",
    "#Query Data Frame to narrow down to words with a frequency of occurance > 300000\n",
    "word_df = word_df.query('count>300000')\n",
    "\n",
    "#Convert data types, create individual character dataframes, and rename columns\n",
    "word_df = word_df.astype({'word':'string'})\n",
    "word_df = word_df[pd.notnull(word_df['word'])]\n",
    "word_df['length'] = word_df['word'].apply(len)\n",
    "word_df = word_df.query('length==5')\n",
    "word_df = word_df.reset_index()\n",
    "letters_df = word_df['word'].str.split(pat =\"\\s*\", expand = True).iloc[:,1:-1]\n",
    "letters_df.columns = ['l1', 'l2', 'l3', 'l4', 'l5']\n",
    "\n",
    "#Iterate over Dataframe based on guess_list\n",
    "temp_df = letters_df\n",
    "for guess in guess_list:\n",
    "    for index in range (0,5):\n",
    "        var = guess[0][index]\n",
    "        if guess[1][index] == 'n':\n",
    "            temp_df = temp_df.query(f\"l1!='{var}' and l2!='{var}' and l3!='{var}' and l4!='{var}' and l5!='{var}'\")\n",
    "        elif guess[1][index] == 'y':\n",
    "            temp_df = temp_df.query(f\"l1=='{var}' or l2=='{var}' or l3=='{var}' or l4=='{var}' or l5=='{var}'\")\n",
    "        elif guess[1][index] == 'g':\n",
    "            temp_df = temp_df.query(f\"l{index+1}=='{var}'\")\n",
    "temp_df"
   ]
  }
 ],
 "metadata": {
  "kernelspec": {
   "display_name": "Python 3",
   "language": "python",
   "name": "python3"
  },
  "language_info": {
   "codemirror_mode": {
    "name": "ipython",
    "version": 3
   },
   "file_extension": ".py",
   "mimetype": "text/x-python",
   "name": "python",
   "nbconvert_exporter": "python",
   "pygments_lexer": "ipython3",
   "version": "3.8.5"
  }
 },
 "nbformat": 4,
 "nbformat_minor": 4
}
